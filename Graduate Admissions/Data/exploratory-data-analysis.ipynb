{
 "cells": [
  {
   "cell_type": "code",
   "execution_count": null,
   "metadata": {
    "_uuid": "9abf28022de9e17db35ab1ae1d3f2149a8d7e611"
   },
   "outputs": [],
   "source": []
  },
  {
   "cell_type": "code",
   "execution_count": null,
   "metadata": {
    "_cell_guid": "b1076dfc-b9ad-4769-8c92-a6c4dae69d19",
    "_uuid": "8f2839f25d086af736a60e9eeb907d3b93b6e0e5"
   },
   "outputs": [],
   "source": [
    "# This Python 3 environment comes with many helpful analytics libraries installed\n",
    "# It is defined by the kaggle/python docker image: https://github.com/kaggle/docker-python\n",
    "# For example, here's several helpful packages to load in \n",
    "\n",
    "import numpy as np # linear algebra\n",
    "import pandas as pd # data processing, CSV file I/O (e.g. pd.read_csv)\n",
    "import matplotlib.pyplot as plt\n",
    "\n",
    "# Input data files are available in the \"../input/\" directory.\n",
    "# For example, running this (by clicking run or pressing Shift+Enter) will list the files in the input directory\n",
    "\n",
    "import os\n",
    "print(os.listdir(\"../input\"))\n",
    "\n",
    "# Any results you write to the current directory are saved as output."
   ]
  },
  {
   "cell_type": "code",
   "execution_count": null,
   "metadata": {
    "_cell_guid": "79c7e3d0-c299-4dcb-8224-4455121ee9b0",
    "_uuid": "d629ff2d2480ee46fbb7e2d37f6b5fab8052498a",
    "scrolled": true
   },
   "outputs": [],
   "source": [
    "df = pd.read_csv('../input/Admission_Predict.csv')\n",
    "df.head()"
   ]
  },
  {
   "cell_type": "code",
   "execution_count": null,
   "metadata": {
    "_uuid": "1b1a103ceb1826f1eed2c46aba6f4a4ff6b52a85"
   },
   "outputs": [],
   "source": [
    "df.shape\n"
   ]
  },
  {
   "cell_type": "code",
   "execution_count": null,
   "metadata": {
    "_uuid": "ad63be0f4cba9528a9075a15ed6b03b6ec6e4fbc"
   },
   "outputs": [],
   "source": [
    "df.describe()\n"
   ]
  },
  {
   "cell_type": "code",
   "execution_count": null,
   "metadata": {
    "_uuid": "aaa21d9a84e624c409a69352df32e0e3940732e7"
   },
   "outputs": [],
   "source": [
    "df.dtypes"
   ]
  },
  {
   "cell_type": "code",
   "execution_count": null,
   "metadata": {
    "_uuid": "6aecfd1c11ffd52de5788dc3933a7481a31838c0"
   },
   "outputs": [],
   "source": [
    "df.info()"
   ]
  },
  {
   "cell_type": "code",
   "execution_count": null,
   "metadata": {
    "_uuid": "9b5e5e69a4264cba79601bcc06dfb84768b70990"
   },
   "outputs": [],
   "source": [
    "df.isnull().sum()"
   ]
  },
  {
   "cell_type": "code",
   "execution_count": null,
   "metadata": {
    "_uuid": "011e1b468675f3657a1a1c11234bcec804a08f8b"
   },
   "outputs": [],
   "source": [
    "df.head()"
   ]
  },
  {
   "cell_type": "code",
   "execution_count": null,
   "metadata": {
    "_uuid": "a360908151a665271f59e6c5ed79dfc1b5e87592"
   },
   "outputs": [],
   "source": [
    "df['GRE Score'] = df['GRE Score']/df['GRE Score'].max()\n",
    "df.head()"
   ]
  },
  {
   "cell_type": "code",
   "execution_count": null,
   "metadata": {
    "_uuid": "0230afcbf34e1a269f9ae8816f2f6bac328cd28a"
   },
   "outputs": [],
   "source": [
    "df['TOEFL Score'].describe()"
   ]
  },
  {
   "cell_type": "code",
   "execution_count": null,
   "metadata": {
    "_uuid": "78be302e4750b4a22f010a3c12e20d8e0d540bb7"
   },
   "outputs": [],
   "source": [
    "df['TOEFL Score'] = df['TOEFL Score'] / df['TOEFL Score'].max()\n",
    "df.head()"
   ]
  },
  {
   "cell_type": "code",
   "execution_count": null,
   "metadata": {
    "_uuid": "0b8b8de561c7b2547a662412784261b11a30e069"
   },
   "outputs": [],
   "source": [
    "df['University Rating'].unique()"
   ]
  },
  {
   "cell_type": "code",
   "execution_count": null,
   "metadata": {
    "_uuid": "e4433a3ddad604a9f76d95fe34e184f0df92182f"
   },
   "outputs": [],
   "source": [
    "df['Research'].unique()"
   ]
  },
  {
   "cell_type": "code",
   "execution_count": null,
   "metadata": {
    "_uuid": "611bde1314c3622494c7af94ea95e86291ac5437"
   },
   "outputs": [],
   "source": [
    "df['University Rating'].value_counts()"
   ]
  },
  {
   "cell_type": "code",
   "execution_count": null,
   "metadata": {
    "_uuid": "10ae27ba1e1ed2687383dc029a05a3a580058c89"
   },
   "outputs": [],
   "source": [
    "df['Research'].value_counts()"
   ]
  },
  {
   "cell_type": "code",
   "execution_count": null,
   "metadata": {
    "_uuid": "21fcc3ee1f0e5cf022a090320fcd565bf4e68d3f"
   },
   "outputs": [],
   "source": [
    "uni_rating_count = df['University Rating'].value_counts()\n",
    "uni_rating_count\n",
    "uni_rating_count.rename(columns={'University Rating':'value_counts'}, inplace=True)\n",
    "uni_rating_count.index.name = 'University Rating'\n",
    "uni_rating_count"
   ]
  },
  {
   "cell_type": "code",
   "execution_count": null,
   "metadata": {
    "_uuid": "ddc867891b2f98b5afa33d4490f71c729a5e0178"
   },
   "outputs": [],
   "source": [
    "df.head()"
   ]
  },
  {
   "cell_type": "code",
   "execution_count": null,
   "metadata": {
    "_uuid": "6291b597989e6ff5083c06c33709b304a350a280"
   },
   "outputs": [],
   "source": [
    "gre_score = df[\"GRE Score\"]\n",
    "chance_of_admit = df[\"Chance of Admit \"]\n",
    "plt.scatter(gre_score, chance_of_admit)\n",
    "plt.title(\"Scatter plot of GRE Score vs Chance of Admission\")\n",
    "plt.xlabel(\"GRE Score\")\n",
    "plt.ylabel(\"Chance of Admission\")"
   ]
  },
  {
   "cell_type": "code",
   "execution_count": null,
   "metadata": {
    "_uuid": "288cb4beb8dda59de532db5385e472e8cae0ca0a"
   },
   "outputs": [],
   "source": [
    "toefl_score = df[\"TOEFL Score\"]\n",
    "chance_of_admit = df[\"Chance of Admit \"]\n",
    "plt.scatter(toefl_score, chance_of_admit)\n",
    "plt.title(\"Scatter plot of TOEFL Score vs Chance of Admission\")\n",
    "plt.xlabel(\"TOEFL Score\")\n",
    "plt.ylabel(\"Chance of Admission\")"
   ]
  },
  {
   "cell_type": "code",
   "execution_count": null,
   "metadata": {
    "_uuid": "5df3035979e34cc74efcabe1f482f0666cae2e3c"
   },
   "outputs": [],
   "source": [
    "import seaborn as sns\n",
    "sns.boxplot(x=\"University Rating\", y=\"Chance of Admit \", data=df)"
   ]
  },
  {
   "cell_type": "code",
   "execution_count": null,
   "metadata": {
    "_uuid": "ac9c17663a816f170a155b5e6b69ee14fda00a61"
   },
   "outputs": [],
   "source": [
    "sns.boxplot(x=\"Research\", y=\"Chance of Admit \", data=df)"
   ]
  },
  {
   "cell_type": "code",
   "execution_count": null,
   "metadata": {
    "_uuid": "c76a400a265029e76f7f9854293aa03517bd3a48"
   },
   "outputs": [],
   "source": [
    "df_grp = df[[\"University Rating\", \"Chance of Admit \"]].groupby('University Rating', as_index=False).mean()\n",
    "df_grp"
   ]
  },
  {
   "cell_type": "code",
   "execution_count": null,
   "metadata": {
    "_uuid": "a0d2c976906c25cad8e46a1cbba38136c170ff92"
   },
   "outputs": [],
   "source": [
    "cgpa = df[\"CGPA\"]\n",
    "chance_of_admit = df[\"Chance of Admit \"]\n",
    "plt.scatter(cgpa, chance_of_admit)\n",
    "plt.title(\"Scatter plot of CGPA vs Chance of Admission\")\n",
    "plt.xlabel(\"CGPA\")\n",
    "plt.ylabel(\"Chance of Admission\")"
   ]
  },
  {
   "cell_type": "code",
   "execution_count": null,
   "metadata": {
    "_uuid": "4389d45b91b36e2e110eff2b85221c4aa473fdae"
   },
   "outputs": [],
   "source": [
    "df_grp1 = df[[\"University Rating\", \"Research\", \"Chance of Admit \"]].groupby(['University Rating', 'Research'], as_index=False).mean()\n",
    "df_pivot_ru = df_grp1.pivot(index=\"Research\", columns=\"University Rating\")\n",
    "df_pivot_ru"
   ]
  },
  {
   "cell_type": "code",
   "execution_count": null,
   "metadata": {
    "_uuid": "f01c05c592bedca5aa8a8ccdf71ee979f049e5f4"
   },
   "outputs": [],
   "source": [
    "df.columns"
   ]
  },
  {
   "cell_type": "code",
   "execution_count": null,
   "metadata": {
    "_uuid": "6d7a4dc0f97bd2fb20645a06ade1019908226681"
   },
   "outputs": [],
   "source": [
    "sns.regplot(x=\"CGPA\", y=\"Chance of Admit \", data=df)\n",
    "plt.ylim(0,)"
   ]
  },
  {
   "cell_type": "code",
   "execution_count": null,
   "metadata": {
    "_uuid": "6d3374b71f88ab9b2d06a1ba6dc704b1c2a49d9e"
   },
   "outputs": [],
   "source": [
    "sns.regplot(x=\"GRE Score\", y=\"Chance of Admit \", data=df)\n",
    "plt.ylim(0,)"
   ]
  },
  {
   "cell_type": "code",
   "execution_count": null,
   "metadata": {
    "_uuid": "44aeeb4f8b6b7774eea97ac4eec351721ec22fd9"
   },
   "outputs": [],
   "source": [
    "sns.regplot(x=\"TOEFL Score\", y=\"Chance of Admit \", data=df)\n",
    "plt.ylim(0,)"
   ]
  },
  {
   "cell_type": "code",
   "execution_count": null,
   "metadata": {
    "_uuid": "19a478f31015ca96089f1f6635be61378f311d0f"
   },
   "outputs": [],
   "source": [
    "df.corr()"
   ]
  },
  {
   "cell_type": "code",
   "execution_count": null,
   "metadata": {
    "_uuid": "3c37de59671dea88e74b7d5cdb13cb7b9ead5e5a"
   },
   "outputs": [],
   "source": [
    "sns.lmplot(x='CGPA', y='Chance of Admit ',data=df)"
   ]
  },
  {
   "cell_type": "code",
   "execution_count": null,
   "metadata": {
    "_uuid": "c38e689d866fb7f7dc40a185dadc7711b5f71c25"
   },
   "outputs": [],
   "source": [
    "sns.residplot(df['CGPA'], df['Chance of Admit '])"
   ]
  },
  {
   "cell_type": "code",
   "execution_count": null,
   "metadata": {
    "_uuid": "6004c3c28b9fb85cd587668f44ecf658cf07ec3d"
   },
   "outputs": [],
   "source": [
    "sns.residplot(df['GRE Score'], df['Chance of Admit '])"
   ]
  },
  {
   "cell_type": "code",
   "execution_count": null,
   "metadata": {
    "_uuid": "251d448a4e245ba8f95db63bce70cac775bc5b56"
   },
   "outputs": [],
   "source": [
    "sns.residplot(df['TOEFL Score'], df['Chance of Admit '])"
   ]
  },
  {
   "cell_type": "code",
   "execution_count": null,
   "metadata": {
    "_uuid": "5a32692b37b0d75fb1b0cc8c3b74d6a88db071cb"
   },
   "outputs": [],
   "source": [
    "X = df[['GRE Score', 'TOEFL Score', 'University Rating', 'CGPA']]\n",
    "y = df[['Chance of Admit ']]"
   ]
  },
  {
   "cell_type": "code",
   "execution_count": null,
   "metadata": {
    "_uuid": "f95fd388da8de3f1dc6809fc8d9bd8cb239b36e0"
   },
   "outputs": [],
   "source": [
    "y.shape"
   ]
  },
  {
   "cell_type": "code",
   "execution_count": null,
   "metadata": {
    "_uuid": "704692eb4de1705c247cd35ce0c549ebde557edb"
   },
   "outputs": [],
   "source": [
    "X.shape"
   ]
  },
  {
   "cell_type": "code",
   "execution_count": null,
   "metadata": {
    "_uuid": "43cfcb75fc6c09b882dcc864aecfd2faed6dcdfc"
   },
   "outputs": [],
   "source": [
    "from sklearn.model_selection import train_test_split\n",
    "x_train, x_test, y_train, y_test = train_test_split(X, y, test_size=0.3, random_state=1)\n",
    "print(\"Number of training data is \", x_train.shape[0])\n",
    "print(\"Number of testing data is \", x_test.shape[0])"
   ]
  },
  {
   "cell_type": "code",
   "execution_count": null,
   "metadata": {
    "_uuid": "b4c9ce2ce25c9befedc91768f73fd20f452c5ae6"
   },
   "outputs": [],
   "source": [
    "from sklearn.linear_model import LinearRegression\n",
    "lm = LinearRegression()\n",
    "lm"
   ]
  },
  {
   "cell_type": "code",
   "execution_count": null,
   "metadata": {
    "_uuid": "981ceeb00bd247f95eefc4e7d416754febc9913b"
   },
   "outputs": [],
   "source": [
    "x_train.shape, y_train.shape"
   ]
  },
  {
   "cell_type": "code",
   "execution_count": null,
   "metadata": {
    "_uuid": "30b402aac52dcc6df9b84774971d4a882bb428fe"
   },
   "outputs": [],
   "source": [
    "lm.fit(x_train, y_train)"
   ]
  },
  {
   "cell_type": "code",
   "execution_count": null,
   "metadata": {
    "_uuid": "b7cb0beddfb76b3855d21dabca266944701a964d"
   },
   "outputs": [],
   "source": [
    "lm.intercept_"
   ]
  },
  {
   "cell_type": "code",
   "execution_count": null,
   "metadata": {
    "_uuid": "a609d16e6e79554662a5ac56eef46307d957bf99"
   },
   "outputs": [],
   "source": [
    "lm.coef_"
   ]
  },
  {
   "cell_type": "code",
   "execution_count": null,
   "metadata": {
    "_uuid": "4bf23c6d1b33d351cbd41a19ec7fa3d080ae3631"
   },
   "outputs": [],
   "source": [
    "Yhat = lm.predict(x_test)\n",
    "Yhat[0:5]"
   ]
  },
  {
   "cell_type": "code",
   "execution_count": null,
   "metadata": {
    "_uuid": "2913b87b6000be9f0db063fe562a1c7215fb335b"
   },
   "outputs": [],
   "source": [
    "from sklearn.metrics import mean_squared_error\n",
    "mean_squared_error(y_test, Yhat)"
   ]
  },
  {
   "cell_type": "code",
   "execution_count": null,
   "metadata": {
    "_uuid": "be5386dd6c9d78950894481725747ed13f559a6e"
   },
   "outputs": [],
   "source": [
    "lm.score(x_test, y_test)"
   ]
  },
  {
   "cell_type": "code",
   "execution_count": null,
   "metadata": {
    "_uuid": "4247131b03ae1e4bcee787c2dfa911aed28e213b"
   },
   "outputs": [],
   "source": [
    "df.head()"
   ]
  },
  {
   "cell_type": "code",
   "execution_count": null,
   "metadata": {
    "_uuid": "a377ba9c11218e7be585c106c6d64e2fdf110ea4"
   },
   "outputs": [],
   "source": [
    "new_input = [[0.923529, 0.858333, 2, 8.21]]\n",
    "lm.predict(new_input)"
   ]
  },
  {
   "cell_type": "code",
   "execution_count": null,
   "metadata": {
    "_uuid": "f0c868192d382cae3f243e07b5e30ec646241ae1"
   },
   "outputs": [],
   "source": [
    "from sklearn.linear_model import Ridge\n",
    "RidgeModel = Ridge(alpha=0.01)\n",
    "RidgeModel.fit(x_train, y_train)"
   ]
  },
  {
   "cell_type": "code",
   "execution_count": null,
   "metadata": {
    "_uuid": "2d0737f137d00e2ad8095e6cb8916be8ad749bcc"
   },
   "outputs": [],
   "source": [
    "RidgeModel.coef_"
   ]
  },
  {
   "cell_type": "code",
   "execution_count": null,
   "metadata": {
    "_uuid": "0a5d67256ad4d264c5a785a7744a032903a84abe"
   },
   "outputs": [],
   "source": [
    "RidgeModel.intercept_"
   ]
  },
  {
   "cell_type": "code",
   "execution_count": null,
   "metadata": {
    "_uuid": "f5fac27227a979ae68526931ec0b7adecfc76f2c"
   },
   "outputs": [],
   "source": [
    "Yhat_ridgeModel = RidgeModel.predict(x_test)\n",
    "Yhat_ridgeModel[0:5]"
   ]
  },
  {
   "cell_type": "code",
   "execution_count": null,
   "metadata": {
    "_uuid": "5e9c95620c1ebfd8624300828a0577a0ec27a235"
   },
   "outputs": [],
   "source": [
    "from sklearn.metrics import mean_squared_error\n",
    "mean_squared_error(y_test, Yhat_ridgeModel)"
   ]
  },
  {
   "cell_type": "code",
   "execution_count": null,
   "metadata": {
    "_uuid": "33e724ddb42b546e1c1fca3dada9594f281fa849"
   },
   "outputs": [],
   "source": [
    "RidgeModel.score(x_test, y_test)"
   ]
  }
 ],
 "metadata": {
  "kernelspec": {
   "display_name": "Python 3",
   "language": "python",
   "name": "python3"
  },
  "language_info": {
   "codemirror_mode": {
    "name": "ipython",
    "version": 3
   },
   "file_extension": ".py",
   "mimetype": "text/x-python",
   "name": "python",
   "nbconvert_exporter": "python",
   "pygments_lexer": "ipython3",
   "version": "3.5.5"
  }
 },
 "nbformat": 4,
 "nbformat_minor": 1
}
